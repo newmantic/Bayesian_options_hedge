{
  "nbformat": 4,
  "nbformat_minor": 0,
  "metadata": {
    "colab": {
      "provenance": [],
      "authorship_tag": "ABX9TyNPsU2IUhuja/PSTxhfMkt5",
      "include_colab_link": true
    },
    "kernelspec": {
      "name": "python3",
      "display_name": "Python 3"
    },
    "language_info": {
      "name": "python"
    }
  },
  "cells": [
    {
      "cell_type": "markdown",
      "metadata": {
        "id": "view-in-github",
        "colab_type": "text"
      },
      "source": [
        "<a href=\"https://colab.research.google.com/github/newmantic/Bayesian_options_hedge/blob/main/Bayesian_options_hedge_.ipynb\" target=\"_parent\"><img src=\"https://colab.research.google.com/assets/colab-badge.svg\" alt=\"Open In Colab\"/></a>"
      ]
    },
    {
      "cell_type": "code",
      "execution_count": null,
      "metadata": {
        "id": "YP-9OSKwXeir"
      },
      "outputs": [],
      "source": [
        "pip install yfinance numpy pandas matplotlib scikit-learn scikit-optimize"
      ]
    },
    {
      "cell_type": "code",
      "source": [
        "import yfinance as yf\n",
        "import pandas as pd\n",
        "import numpy as np\n",
        "\n",
        "# Download historical data for a stock and the VIX (Volatility Index)\n",
        "stock_data = yf.download('SPY', start='2015-01-01', end='2023-01-01')\n",
        "vix_data = yf.download('^VIX', start='2015-01-01', end='2023-01-01')\n",
        "\n",
        "# Prepare the dataset\n",
        "data = pd.DataFrame()\n",
        "data['Stock_Price'] = stock_data['Close']\n",
        "data['VIX'] = vix_data['Close']\n",
        "data.dropna(inplace=True)"
      ],
      "metadata": {
        "colab": {
          "base_uri": "https://localhost:8080/"
        },
        "id": "Db6VO0kXYn42",
        "outputId": "b32a1da2-f3f3-4313-ae4f-4061d7343d74"
      },
      "execution_count": 2,
      "outputs": [
        {
          "output_type": "stream",
          "name": "stderr",
          "text": [
            "[*********************100%***********************]  1 of 1 completed\n",
            "[*********************100%***********************]  1 of 1 completed\n"
          ]
        }
      ]
    },
    {
      "cell_type": "code",
      "source": [
        "from math import exp\n",
        "from scipy.stats import norm\n",
        "\n",
        "# Black-Scholes model for option pricing\n",
        "def black_scholes(S, K, T, r, sigma, option_type='put'):\n",
        "    \"\"\"\n",
        "    S: Stock price\n",
        "    K: Strike price\n",
        "    T: Time to expiration (in years)\n",
        "    r: Risk-free interest rate\n",
        "    sigma: Volatility\n",
        "    option_type: 'call' or 'put'\n",
        "    \"\"\"\n",
        "    d1 = (np.log(S / K) + (r + 0.5 * sigma ** 2) * T) / (sigma * np.sqrt(T))\n",
        "    d2 = d1 - sigma * np.sqrt(T)\n",
        "\n",
        "    if option_type == 'call':\n",
        "        price = S * norm.cdf(d1) - K * exp(-r * T) * norm.cdf(d2)\n",
        "    elif option_type == 'put':\n",
        "        price = K * exp(-r * T) * norm.cdf(-d2) - S * norm.cdf(-d1)\n",
        "    return price\n",
        "\n",
        "# Simulate portfolio returns with an option hedge\n",
        "def simulate_portfolio(stock_prices, option_strike, time_to_exp, volatility, r=0.01):\n",
        "    \"\"\"\n",
        "    Simulate the portfolio's performance with a put option hedge.\n",
        "\n",
        "    stock_prices: Array of historical stock prices.\n",
        "    option_strike: Strike price of the put option.\n",
        "    time_to_exp: Time to expiration in years.\n",
        "    volatility: Volatility of the stock (annualized).\n",
        "    r: Risk-free interest rate (default 1%).\n",
        "    \"\"\"\n",
        "    portfolio_returns = []\n",
        "    option_costs = []\n",
        "\n",
        "    for t in range(1, len(stock_prices)):\n",
        "        S_t = stock_prices[t]\n",
        "        S_t_prev = stock_prices[t - 1]\n",
        "        price_return = (S_t - S_t_prev) / S_t_prev\n",
        "\n",
        "        # Calculate option price using Black-Scholes\n",
        "        option_price = black_scholes(S_t_prev, option_strike, time_to_exp, r, volatility, option_type='put')\n",
        "\n",
        "        # Hedge with the option\n",
        "        if S_t < option_strike:\n",
        "            # Hedge payout if stock price falls below strike\n",
        "            hedge_return = (option_strike - S_t) / option_strike\n",
        "        else:\n",
        "            hedge_return = 0\n",
        "\n",
        "        # Calculate portfolio return with hedge\n",
        "        portfolio_return = price_return + hedge_return\n",
        "        portfolio_returns.append(portfolio_return)\n",
        "        option_costs.append(option_price)\n",
        "\n",
        "    return np.mean(portfolio_returns), np.mean(option_costs)"
      ],
      "metadata": {
        "id": "Wdy3D4DuYtLX"
      },
      "execution_count": 3,
      "outputs": []
    },
    {
      "cell_type": "code",
      "source": [
        "from skopt import gp_minimize\n",
        "from skopt.space import Real, Integer\n",
        "from skopt.utils import use_named_args\n",
        "\n",
        "# Define the search space for Bayesian Optimization\n",
        "search_space = [\n",
        "    Real(0.9, 1.1, name='strike_price_factor'),  # Strike price as a percentage of current price (0.9 to 1.1)\n",
        "    Real(0.01, 1.0, name='time_to_exp'),  # Time to expiration (in years, from 1 week to 1 year)\n",
        "    Real(0.1, 0.5, name='volatility')  # Volatility (annualized, 10% to 50%)\n",
        "]\n",
        "\n",
        "\n",
        "# Define the objective function for Bayesian Optimization\n",
        "def objective_function(params):\n",
        "    # Extract parameters from the passed 'params' list\n",
        "    strike_price_factor, time_to_exp, volatility = params\n",
        "\n",
        "    stock_prices = data['Stock_Price'].values\n",
        "\n",
        "    # Use the stock price at the beginning as a reference for the strike price\n",
        "    initial_price = stock_prices[0]\n",
        "    strike_price = strike_price_factor * initial_price\n",
        "\n",
        "    # Simulate portfolio performance with the given parameters\n",
        "    mean_return, mean_option_cost = simulate_portfolio(stock_prices, strike_price, time_to_exp, volatility)\n",
        "\n",
        "    # Objective: Maximize mean_return - mean_option_cost (higher returns, lower costs)\n",
        "    return -(mean_return - mean_option_cost)  # We negate since we want to minimize the function"
      ],
      "metadata": {
        "id": "tbvJjh5BYzbi"
      },
      "execution_count": 9,
      "outputs": []
    },
    {
      "cell_type": "code",
      "source": [
        "#from skopt import gp_minimize\n",
        "from skopt.space import Real\n",
        "from skopt.utils import use_named_args\n",
        "\n",
        "# Run Bayesian Optimization\n",
        "result = gp_minimize(objective_function, search_space, n_calls=30, random_state=42)\n",
        "\n",
        "# Optimal parameters\n",
        "print(f\"Optimal strike price factor: {result.x[0]:.2f}\")\n",
        "print(f\"Optimal time to expiration (years): {result.x[1]:.2f}\")\n",
        "print(f\"Optimal volatility: {result.x[2]:.2f}\")\n",
        "\n",
        "# Minimum value of the objective function (negative of the profit)\n",
        "print(f\"Optimal portfolio performance: {-result.fun:.4f}\")"
      ],
      "metadata": {
        "colab": {
          "base_uri": "https://localhost:8080/"
        },
        "id": "a6ewlh7DY3D8",
        "outputId": "066fce52-5b9d-411a-947d-5b941d12bd8b"
      },
      "execution_count": 10,
      "outputs": [
        {
          "output_type": "stream",
          "name": "stdout",
          "text": [
            "Optimal strike price factor: 0.90\n",
            "Optimal time to expiration (years): 0.01\n",
            "Optimal volatility: 0.10\n",
            "Optimal portfolio performance: -0.0020\n"
          ]
        }
      ]
    }
  ]
}